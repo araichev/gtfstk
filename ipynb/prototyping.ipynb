{
 "cells": [
  {
   "cell_type": "code",
   "execution_count": 5,
   "metadata": {},
   "outputs": [
    {
     "name": "stdout",
     "output_type": "stream",
     "text": [
      "The autoreload extension is already loaded. To reload it, use:\n",
      "  %reload_ext autoreload\n"
     ]
    }
   ],
   "source": [
    "from __future__ import division\n",
    "import datetime as dt\n",
    "from collections import OrderedDict\n",
    "import sys, os\n",
    "import dateutil.relativedelta as rd\n",
    "import json\n",
    "from pathlib import Path\n",
    "\n",
    "import utm\n",
    "import pandas as pd\n",
    "import numpy as np\n",
    "import shapely.geometry as sg\n",
    "\n",
    "DIR = Path('..')\n",
    "sys.path.append(str(DIR))\n",
    "\n",
    "import gtfstk as gt\n",
    "\n",
    "%load_ext autoreload\n",
    "%autoreload 2\n",
    "\n",
    "DATA_DIR = DIR/'data'"
   ]
  },
  {
   "cell_type": "code",
   "execution_count": 6,
   "metadata": {},
   "outputs": [],
   "source": [
    "#path = DATA_DIR/'cairns_gtfs.zip'\n",
    "path = \"../../Desktop/IDFM_gtfs.zip\"\n",
    "feed = gt.read_gtfs(path, dist_units='km')\n"
   ]
  },
  {
   "cell_type": "code",
   "execution_count": 7,
   "metadata": {},
   "outputs": [
    {
     "data": {
      "text/plain": [
       "0     067167003:E\n",
       "1     067067003:F\n",
       "2     067167006:G\n",
       "3     067167008:D\n",
       "4     067167002:A\n",
       "5     067167001:B\n",
       "6     067067005:C\n",
       "7     067167004:H\n",
       "8     067067020:M\n",
       "9     067167010:N\n",
       "10    067167005:O\n",
       "11    067067017:L\n",
       "12    067167009:I\n",
       "13    067067002:J\n",
       "14    067067064:K\n",
       "Name: route_id, dtype: object"
      ]
     },
     "metadata": {},
     "output_type": "display_data"
    }
   ],
   "source": [
    "route_ids = feed.routes.loc[lambda x: x.agency_id == \"372\", \"route_id\"]\n",
    "display(route_ids)\n",
    "little_feed = feed.restrict_to_routes(route_ids=route_ids)\n"
   ]
  },
  {
   "cell_type": "code",
   "execution_count": 8,
   "metadata": {},
   "outputs": [
    {
     "data": {
      "text/html": [
       "<div>\n",
       "<style scoped>\n",
       "    .dataframe tbody tr th:only-of-type {\n",
       "        vertical-align: middle;\n",
       "    }\n",
       "\n",
       "    .dataframe tbody tr th {\n",
       "        vertical-align: top;\n",
       "    }\n",
       "\n",
       "    .dataframe thead th {\n",
       "        text-align: right;\n",
       "    }\n",
       "</style>\n",
       "<table border=\"1\" class=\"dataframe\">\n",
       "  <thead>\n",
       "    <tr style=\"text-align: right;\">\n",
       "      <th></th>\n",
       "      <th>type</th>\n",
       "      <th>message</th>\n",
       "      <th>table</th>\n",
       "      <th>rows</th>\n",
       "    </tr>\n",
       "  </thead>\n",
       "  <tbody>\n",
       "    <tr>\n",
       "      <th>0</th>\n",
       "      <td>warning</td>\n",
       "      <td>Unrecognized column stop_time_desc</td>\n",
       "      <td>stop_times</td>\n",
       "      <td>[]</td>\n",
       "    </tr>\n",
       "    <tr>\n",
       "      <th>1</th>\n",
       "      <td>warning</td>\n",
       "      <td>Repeated pair (trip_id, departure_time)</td>\n",
       "      <td>stop_times</td>\n",
       "      <td>[17468, 17478, 17488, 17608, 17618, 17628, 176...</td>\n",
       "    </tr>\n",
       "    <tr>\n",
       "      <th>2</th>\n",
       "      <td>warning</td>\n",
       "      <td>Unrecognized column trip_desc</td>\n",
       "      <td>trips</td>\n",
       "      <td>[]</td>\n",
       "    </tr>\n",
       "  </tbody>\n",
       "</table>\n",
       "</div>"
      ],
      "text/plain": [
       "      type                                  message       table  \\\n",
       "0  warning       Unrecognized column stop_time_desc  stop_times   \n",
       "1  warning  Repeated pair (trip_id, departure_time)  stop_times   \n",
       "2  warning            Unrecognized column trip_desc       trips   \n",
       "\n",
       "                                                rows  \n",
       "0                                                 []  \n",
       "1  [17468, 17478, 17488, 17608, 17618, 17628, 176...  \n",
       "2                                                 []  "
      ]
     },
     "execution_count": 8,
     "metadata": {},
     "output_type": "execute_result"
    }
   ],
   "source": [
    "vv = little_feed.validate()\n",
    "vv"
   ]
  },
  {
   "cell_type": "code",
   "execution_count": null,
   "metadata": {},
   "outputs": [],
   "source": [
    "freq = \"8H\"\n",
    "f = gt.downsample(rts, freq=freq)\n",
    "display(f)\n"
   ]
  },
  {
   "cell_type": "code",
   "execution_count": null,
   "metadata": {},
   "outputs": [],
   "source": [
    "(\n",
    "    rts\n",
    "    .pipe(gt.unstack_time_series)\n",
    "    .merge(feed.routes.filter([\"route_id\", \"route_type\"]), how=\"left\")\n",
    "    .groupby([\"datetime\", \"indicator\", \"route_type\"])\n",
    "    .agg({\"value\": lambda x: x.sum(skipna=True, min_count=1)})  # Preserve NaNs\n",
    "    .reset_index(\"datetime\")\n",
    "#     .fillna(-1)\n",
    "#     .pivot_table(\n",
    "#         index=[\"datetime\"], columns=[\"indicator\", \"route_type\"]\n",
    "#     )\n",
    "#     .value\n",
    "#     .replace({-1: np.nan})\n",
    ")"
   ]
  },
  {
   "cell_type": "code",
   "execution_count": null,
   "metadata": {},
   "outputs": [],
   "source": [
    "# Slicing \n",
    "display(fts.loc[:, (\"num_trips\", slice(None))])\n",
    "display(fts.xs(\"num_trips\", axis=\"columns\"))"
   ]
  },
  {
   "cell_type": "code",
   "execution_count": null,
   "metadata": {},
   "outputs": [],
   "source": [
    "f = fts = feed.compute_feed_time_series(trip_stats, dates[:1], freq=\"12H\", split_route_types=False)\n",
    "display(f)\n",
    "g = gt.unstack_time_series(f)\n",
    "\n",
    "# columns = [c for c in g.columns if c not in [\"datetime\", \"value\"]]\n",
    "# h = g.pivot_table(index=\"datetime\", columns=columns).value.sort_index(\n",
    "#     axis=\"columns\"\n",
    "# )\n",
    "\n",
    "# hours = (h.index[1] - h.index[0]).components.hours\n",
    "# if hours != 0:\n",
    "#     freqy = f\"{hours}H\"\n",
    "# else:\n",
    "#     freqy = \"D\"\n",
    "\n",
    "# print(freqy)\n",
    "\n",
    "h = gt.restack_time_series(g)\n",
    "h"
   ]
  },
  {
   "cell_type": "code",
   "execution_count": null,
   "metadata": {},
   "outputs": [],
   "source": [
    "f.index"
   ]
  },
  {
   "cell_type": "code",
   "execution_count": null,
   "metadata": {},
   "outputs": [],
   "source": [
    "delta.components.hours"
   ]
  },
  {
   "cell_type": "code",
   "execution_count": null,
   "metadata": {},
   "outputs": [],
   "source": [
    "feed1 = feed.copy()\n",
    "cal = feed1.calendar.copy()\n",
    "cal[\"monday\"] = 0\n",
    "feed1.calendar = cal\n",
    "feed1.compute_feed_time_series(trip_stats, dates, freq=\"12H\")"
   ]
  },
  {
   "cell_type": "code",
   "execution_count": null,
   "metadata": {},
   "outputs": [],
   "source": [
    "s1 = pd.Series({\"hello\": 12, \"goodbye\": 13})\n",
    "s2 = s1.copy()\n",
    "pd.DataFrame([s1, s2])"
   ]
  },
  {
   "cell_type": "code",
   "execution_count": null,
   "metadata": {},
   "outputs": [],
   "source": [
    "feed.compute_stop_stats(['20140601', '20140603'])"
   ]
  },
  {
   "cell_type": "code",
   "execution_count": null,
   "metadata": {},
   "outputs": [],
   "source": [
    "trip_stats = feed.compute_trip_stats()\n",
    "feed = feed.append_dist_to_stop_times(trip_stats)\n",
    "\n",
    "# Load screen line\n",
    "with (DATA_DIR/'cairns_screen_line.geojson').open() as src:\n",
    "    line = json.load(src)\n",
    "    line = sg.shape(line['features'][0]['geometry'])\n",
    "\n"
   ]
  },
  {
   "cell_type": "code",
   "execution_count": null,
   "metadata": {},
   "outputs": [],
   "source": [
    "f = feed.compute_screen_line_counts(line, dates[:7])\n",
    "f[f['crossing_time'] < '06:00:00']"
   ]
  },
  {
   "cell_type": "code",
   "execution_count": null,
   "metadata": {},
   "outputs": [],
   "source": [
    "feed.compute_feed_time_series(ts, dates[-2:], freq='12H')"
   ]
  },
  {
   "cell_type": "code",
   "execution_count": null,
   "metadata": {},
   "outputs": [],
   "source": [
    "sd = False\n",
    "#%time p1 = proto1(feed, ts, dates[:14], split_directions=sd)\n",
    "%time p2 = proto2(feed, [dates[0], '20010101'], split_directions=sd, freq='12H')\n",
    "p2"
   ]
  },
  {
   "cell_type": "code",
   "execution_count": null,
   "metadata": {},
   "outputs": [],
   "source": [
    "feed.compute_feed_stats(ts, dates[0])"
   ]
  },
  {
   "cell_type": "code",
   "execution_count": null,
   "metadata": {},
   "outputs": [],
   "source": [
    "feed.describe()"
   ]
  },
  {
   "cell_type": "code",
   "execution_count": null,
   "metadata": {},
   "outputs": [],
   "source": [
    "feed.summarize()"
   ]
  },
  {
   "cell_type": "code",
   "execution_count": null,
   "metadata": {},
   "outputs": [],
   "source": []
  }
 ],
 "metadata": {
  "kernelspec": {
   "display_name": "Python 3",
   "language": "python",
   "name": "python3"
  },
  "language_info": {
   "codemirror_mode": {
    "name": "ipython",
    "version": 3
   },
   "file_extension": ".py",
   "mimetype": "text/x-python",
   "name": "python",
   "nbconvert_exporter": "python",
   "pygments_lexer": "ipython3",
   "version": "3.6.7"
  }
 },
 "nbformat": 4,
 "nbformat_minor": 1
}
